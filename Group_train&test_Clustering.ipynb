{
 "cells": [
  {
   "cell_type": "code",
   "execution_count": 1,
   "metadata": {},
   "outputs": [],
   "source": [
    "import pandas as pd\n",
    "import re\n",
    "from nltk.stem import WordNetLemmatizer\n",
    "from sklearn.feature_extraction.text import CountVectorizer\n",
    "from nltk import word_tokenize\n",
    "import string\n",
    "from nltk.corpus import stopwords\n",
    "from sklearn.feature_extraction.text import TfidfVectorizer"
   ]
  },
  {
   "cell_type": "code",
   "execution_count": 2,
   "metadata": {},
   "outputs": [],
   "source": [
    "df1 = pd.read_csv('train.csv',index_col = 0)\n",
    "df2 = pd.read_csv('test.csv',index_col = 0)"
   ]
  },
  {
   "cell_type": "code",
   "execution_count": 3,
   "metadata": {},
   "outputs": [
    {
     "data": {
      "text/html": [
       "<div>\n",
       "<style scoped>\n",
       "    .dataframe tbody tr th:only-of-type {\n",
       "        vertical-align: middle;\n",
       "    }\n",
       "\n",
       "    .dataframe tbody tr th {\n",
       "        vertical-align: top;\n",
       "    }\n",
       "\n",
       "    .dataframe thead th {\n",
       "        text-align: right;\n",
       "    }\n",
       "</style>\n",
       "<table border=\"1\" class=\"dataframe\">\n",
       "  <thead>\n",
       "    <tr style=\"text-align: right;\">\n",
       "      <th></th>\n",
       "      <th>review</th>\n",
       "      <th>sentiment</th>\n",
       "    </tr>\n",
       "  </thead>\n",
       "  <tbody>\n",
       "    <tr>\n",
       "      <th>0</th>\n",
       "      <td>Homelessness (or Houselessness as George Carli...</td>\n",
       "      <td>1</td>\n",
       "    </tr>\n",
       "    <tr>\n",
       "      <th>1</th>\n",
       "      <td>Homelessness (or Houselessness as George Carli...</td>\n",
       "      <td>1</td>\n",
       "    </tr>\n",
       "    <tr>\n",
       "      <th>2</th>\n",
       "      <td>Brilliant over-acting by Lesley Ann Warren. Be...</td>\n",
       "      <td>1</td>\n",
       "    </tr>\n",
       "    <tr>\n",
       "      <th>3</th>\n",
       "      <td>This is easily the most underrated film inn th...</td>\n",
       "      <td>1</td>\n",
       "    </tr>\n",
       "    <tr>\n",
       "      <th>4</th>\n",
       "      <td>This is not the typical Mel Brooks film. It wa...</td>\n",
       "      <td>1</td>\n",
       "    </tr>\n",
       "  </tbody>\n",
       "</table>\n",
       "</div>"
      ],
      "text/plain": [
       "                                              review  sentiment\n",
       "0  Homelessness (or Houselessness as George Carli...          1\n",
       "1  Homelessness (or Houselessness as George Carli...          1\n",
       "2  Brilliant over-acting by Lesley Ann Warren. Be...          1\n",
       "3  This is easily the most underrated film inn th...          1\n",
       "4  This is not the typical Mel Brooks film. It wa...          1"
      ]
     },
     "execution_count": 3,
     "metadata": {},
     "output_type": "execute_result"
    }
   ],
   "source": [
    "df1.head()"
   ]
  },
  {
   "cell_type": "code",
   "execution_count": 4,
   "metadata": {},
   "outputs": [
    {
     "data": {
      "text/html": [
       "<div>\n",
       "<style scoped>\n",
       "    .dataframe tbody tr th:only-of-type {\n",
       "        vertical-align: middle;\n",
       "    }\n",
       "\n",
       "    .dataframe tbody tr th {\n",
       "        vertical-align: top;\n",
       "    }\n",
       "\n",
       "    .dataframe thead th {\n",
       "        text-align: right;\n",
       "    }\n",
       "</style>\n",
       "<table border=\"1\" class=\"dataframe\">\n",
       "  <thead>\n",
       "    <tr style=\"text-align: right;\">\n",
       "      <th></th>\n",
       "      <th>review</th>\n",
       "      <th>sentiment</th>\n",
       "    </tr>\n",
       "  </thead>\n",
       "  <tbody>\n",
       "    <tr>\n",
       "      <th>0</th>\n",
       "      <td>Actor turned director Bill Paxton follows up h...</td>\n",
       "      <td>1</td>\n",
       "    </tr>\n",
       "    <tr>\n",
       "      <th>1</th>\n",
       "      <td>Actor turned director Bill Paxton follows up h...</td>\n",
       "      <td>1</td>\n",
       "    </tr>\n",
       "    <tr>\n",
       "      <th>2</th>\n",
       "      <td>As a recreational golfer with some knowledge o...</td>\n",
       "      <td>1</td>\n",
       "    </tr>\n",
       "    <tr>\n",
       "      <th>3</th>\n",
       "      <td>I saw this film in a sneak preview, and it is ...</td>\n",
       "      <td>1</td>\n",
       "    </tr>\n",
       "    <tr>\n",
       "      <th>4</th>\n",
       "      <td>Bill Paxton has taken the true story of the 19...</td>\n",
       "      <td>1</td>\n",
       "    </tr>\n",
       "  </tbody>\n",
       "</table>\n",
       "</div>"
      ],
      "text/plain": [
       "                                              review  sentiment\n",
       "0  Actor turned director Bill Paxton follows up h...          1\n",
       "1  Actor turned director Bill Paxton follows up h...          1\n",
       "2  As a recreational golfer with some knowledge o...          1\n",
       "3  I saw this film in a sneak preview, and it is ...          1\n",
       "4  Bill Paxton has taken the true story of the 19...          1"
      ]
     },
     "execution_count": 4,
     "metadata": {},
     "output_type": "execute_result"
    }
   ],
   "source": [
    "df2.head()"
   ]
  },
  {
   "cell_type": "code",
   "execution_count": 5,
   "metadata": {},
   "outputs": [],
   "source": [
    "df1 = df1.drop_duplicates(subset=\"review\", keep='first', inplace=False)\n",
    "df2 = df2.drop_duplicates(subset=\"review\", keep='first', inplace=False)"
   ]
  },
  {
   "cell_type": "code",
   "execution_count": 6,
   "metadata": {},
   "outputs": [
    {
     "data": {
      "text/plain": [
       "24799"
      ]
     },
     "execution_count": 6,
     "metadata": {},
     "output_type": "execute_result"
    }
   ],
   "source": [
    "len(df2)"
   ]
  },
  {
   "cell_type": "code",
   "execution_count": 7,
   "metadata": {},
   "outputs": [],
   "source": [
    "reviews_train = list(df1['review'])\n",
    "reviews_test = list(df2['review'])"
   ]
  },
  {
   "cell_type": "code",
   "execution_count": 8,
   "metadata": {},
   "outputs": [],
   "source": [
    "#remove irrelavant words/numbers/symbols\n",
    "def remove_num_name(corpus):\n",
    "    news=[]\n",
    "    for i in corpus:\n",
    "        new=i.replace('\\n','').replace('\\\\','').replace('<','').replace('/','').replace('>','').replace('_','')           # remove delimeter \n",
    "        new=re.sub(r'[0-9]+','',new)                      # remove numbers\n",
    "        #new=re.sub(r'[A-Z][a-z]*[\\s-][A-Z][a-z]*','',new) # remove full name\n",
    "        #new=re.sub(r'[A-Z][a-z]+','',new)                 # remove part of name\n",
    "        news.append(new)\n",
    "    return news"
   ]
  },
  {
   "cell_type": "code",
   "execution_count": 9,
   "metadata": {},
   "outputs": [],
   "source": [
    "reviews_train = remove_num_name(reviews_train)\n",
    "reviews_test = remove_num_name(reviews_test)"
   ]
  },
  {
   "cell_type": "code",
   "execution_count": 10,
   "metadata": {},
   "outputs": [],
   "source": [
    "lemmatizer = WordNetLemmatizer()\n",
    "# make a function that takes in a full sentence, tokenizes it, lemmatizes the words, then joins it back\n",
    "# on white space\n",
    "def lemmatize_sentence(sentence):\n",
    "    words = word_tokenize(sentence)\n",
    "    res_words = []\n",
    "    for word in words:\n",
    "        res_words.append(lemmatizer.lemmatize(word).strip(string.punctuation)) \n",
    "    return ' '.join(res_words)"
   ]
  },
  {
   "cell_type": "code",
   "execution_count": 11,
   "metadata": {},
   "outputs": [],
   "source": [
    "lemma_reviews_train = []\n",
    "lemma_reviews_test = []\n",
    "\n",
    "for i in reviews_train:\n",
    "    lemma_reviews_train.append(lemmatize_sentence(i))\n",
    "    \n",
    "for i in reviews_test:\n",
    "    lemma_reviews_test.append(lemmatize_sentence(i))"
   ]
  },
  {
   "cell_type": "code",
   "execution_count": 12,
   "metadata": {},
   "outputs": [],
   "source": [
    "Y_train = df1[['sentiment']]\n",
    "Y_test = df2[['sentiment']]"
   ]
  },
  {
   "cell_type": "code",
   "execution_count": 13,
   "metadata": {},
   "outputs": [],
   "source": [
    "stop=stopwords.words('english')+['movie','film','best','ever','good','one','well',\\\n",
    "                                  'favorite','worse','waste','bad','worst','look','like',\\\n",
    "                                 'many','acting','seen','great','would','great','get','give',\\\n",
    "                                 'would','could','hand']"
   ]
  },
  {
   "cell_type": "markdown",
   "metadata": {},
   "source": [
    "## Tf-idf & Logistic Regression"
   ]
  },
  {
   "cell_type": "code",
   "execution_count": 14,
   "metadata": {},
   "outputs": [
    {
     "data": {
      "text/plain": [
       "(24902, 2500)"
      ]
     },
     "execution_count": 14,
     "metadata": {},
     "output_type": "execute_result"
    }
   ],
   "source": [
    "vectorizer = TfidfVectorizer(ngram_range=(1,1),\\\n",
    "                             max_df = 0.6,\\\n",
    "                             min_df = 1,\\\n",
    "                             token_pattern=r'\\b[a-zA-Z]{3,20}\\b',\\\n",
    "                             stop_words=stop,max_features=2500)\n",
    "# vectorize the corpus\n",
    "vector_train = vectorizer.fit_transform(lemma_reviews_train)\n",
    "vector_test = vectorizer.fit_transform(lemma_reviews_test)\n",
    "X_train = pd.DataFrame(vector_train.toarray(),columns=vectorizer.get_feature_names())\n",
    "X_test = pd.DataFrame(vector_test.toarray(),columns=vectorizer.get_feature_names())\n",
    "X_train.shape"
   ]
  },
  {
   "cell_type": "code",
   "execution_count": 15,
   "metadata": {},
   "outputs": [
    {
     "name": "stderr",
     "output_type": "stream",
     "text": [
      "/anaconda3/lib/python3.7/site-packages/sklearn/linear_model/logistic.py:433: FutureWarning: Default solver will be changed to 'lbfgs' in 0.22. Specify a solver to silence this warning.\n",
      "  FutureWarning)\n",
      "/anaconda3/lib/python3.7/site-packages/sklearn/utils/validation.py:761: DataConversionWarning: A column-vector y was passed when a 1d array was expected. Please change the shape of y to (n_samples, ), for example using ravel().\n",
      "  y = column_or_1d(y, warn=True)\n"
     ]
    },
    {
     "data": {
      "text/plain": [
       "LogisticRegression(C=1.0, class_weight=None, dual=False, fit_intercept=True,\n",
       "          intercept_scaling=1, max_iter=100, multi_class='warn',\n",
       "          n_jobs=None, penalty='l2', random_state=None, solver='warn',\n",
       "          tol=0.0001, verbose=0, warm_start=False)"
      ]
     },
     "execution_count": 15,
     "metadata": {},
     "output_type": "execute_result"
    }
   ],
   "source": [
    "from sklearn.linear_model import LogisticRegression\n",
    "\n",
    "lr = LogisticRegression()\n",
    "lr.fit(X_train,Y_train)"
   ]
  },
  {
   "cell_type": "code",
   "execution_count": 16,
   "metadata": {},
   "outputs": [
    {
     "data": {
      "text/plain": [
       "array([[0.56280024, 0.43719976],\n",
       "       [0.66049122, 0.33950878],\n",
       "       [0.56088134, 0.43911866],\n",
       "       ...,\n",
       "       [0.73708187, 0.26291813],\n",
       "       [0.79032647, 0.20967353],\n",
       "       [0.68482515, 0.31517485]])"
      ]
     },
     "execution_count": 16,
     "metadata": {},
     "output_type": "execute_result"
    }
   ],
   "source": [
    "y_probs = lr.predict_proba(X_test)\n",
    "y_probs"
   ]
  },
  {
   "cell_type": "code",
   "execution_count": 19,
   "metadata": {},
   "outputs": [
    {
     "data": {
      "text/plain": [
       "0.6068450543506682"
      ]
     },
     "execution_count": 19,
     "metadata": {},
     "output_type": "execute_result"
    }
   ],
   "source": [
    "from sklearn import metrics\n",
    "import numpy as np\n",
    "fpr, tpr, thresholds = metrics.roc_curve(np.array(Y_test),y_probs[:,1], pos_label=1)\n",
    "roc_auc = metrics.auc(fpr,tpr)\n",
    "roc_auc"
   ]
  },
  {
   "cell_type": "code",
   "execution_count": 21,
   "metadata": {
    "scrolled": true
   },
   "outputs": [
    {
     "data": {
      "image/png": "[encoded data removed]",
      "text/plain": [
       "<Figure size 432x288 with 1 Axes>"
      ]
     },
     "metadata": {
      "needs_background": "light"
     },
     "output_type": "display_data"
    }
   ],
   "source": [
    "import matplotlib.pyplot as plt\n",
    "plt.plot(fpr,tpr, 'b',label='AUC = %0.2f' % roc_auc)\n",
    "plt.legend(loc='lower right')\n",
    "plt.plot([0,1],[0,1],'r--')\n",
    "plt.xlim([0,1])\n",
    "plt.ylim([0,1])\n",
    "plt.ylabel('True Positive Rate')\n",
    "plt.xlabel('False Positive Rate')\n",
    "plt.title('ROC Curve - Tfidf - Logistic Regression')\n",
    "plt.show()"
   ]
  },
  {
   "cell_type": "code",
   "execution_count": 22,
   "metadata": {},
   "outputs": [
    {
     "data": {
      "text/plain": [
       "array([[ 0.12848341, -1.0938349 ,  1.4257172 , ...,  0.08965728,\n",
       "        -0.70290462, -0.76592059]])"
      ]
     },
     "execution_count": 22,
     "metadata": {},
     "output_type": "execute_result"
    }
   ],
   "source": [
    "coefficients = lr.coef_\n",
    "coefficients"
   ]
  },
  {
   "cell_type": "code",
   "execution_count": 23,
   "metadata": {},
   "outputs": [
    {
     "data": {
      "text/plain": [
       "everything     6.129544\n",
       "period         4.871775\n",
       "wonderfully    4.829973\n",
       "amazingly      4.394239\n",
       "loud           3.995295\n",
       "dtype: float64"
      ]
     },
     "execution_count": 23,
     "metadata": {},
     "output_type": "execute_result"
    }
   ],
   "source": [
    "feature_importance = pd.Series(coefficients[0],index = X_train.columns)\n",
    "ordered_feature_importance_pos = feature_importance[feature_importance>0].sort_values(ascending=False)\n",
    "ordered_feature_importance_neg = feature_importance[feature_importance<0].sort_values()\n",
    "ordered_feature_importance_pos[:5]"
   ]
  },
  {
   "cell_type": "code",
   "execution_count": 24,
   "metadata": {},
   "outputs": [
    {
     "data": {
      "image/png": "[encoded data removed]",
      "text/plain": [
       "<Figure size 432x288 with 1 Axes>"
      ]
     },
     "metadata": {
      "needs_background": "light"
     },
     "output_type": "display_data"
    }
   ],
   "source": [
    "ordered_feature_importance_pos[:20].plot.barh()\n",
    "plt.show()"
   ]
  },
  {
   "cell_type": "code",
   "execution_count": 26,
   "metadata": {},
   "outputs": [
    {
     "data": {
      "image/png": "[encoded data removed]",
      "text/plain": [
       "<Figure size 432x288 with 1 Axes>"
      ]
     },
     "metadata": {
      "needs_background": "light"
     },
     "output_type": "display_data"
    }
   ],
   "source": [
    "ordered_feature_importance_neg[:20].plot.barh()\n",
    "plt.show()"
   ]
  },
  {
   "cell_type": "markdown",
   "metadata": {},
   "source": [
    "## K-means clustering"
   ]
  },
  {
   "cell_type": "code",
   "execution_count": 52,
   "metadata": {},
   "outputs": [],
   "source": [
    "stop=stopwords.words('english')+['movie','film','best','ever','good','one','well',\\\n",
    "                                  'favorite','worse','waste','bad','worst','look','like',\\\n",
    "                                 'many','acting','seen','great','would','great','get','give',\\\n",
    "                                 'would','could','hand','see','time','year','also','make',\\\n",
    "                                 'also','saw','time','still']"
   ]
  },
  {
   "cell_type": "code",
   "execution_count": 53,
   "metadata": {},
   "outputs": [
    {
     "data": {
      "text/plain": [
       "(24902, 2500)"
      ]
     },
     "execution_count": 53,
     "metadata": {},
     "output_type": "execute_result"
    }
   ],
   "source": [
    "vectorizer_cluster = TfidfVectorizer(ngram_range=(1,1),\\\n",
    "                                     max_df = 0.5,\\\n",
    "                                     token_pattern=r'\\b[a-zA-Z]{5,20}\\b',\\\n",
    "                                     stop_words=stop,max_features=2500)\n",
    "# vectorize the corpus\n",
    "vector = vectorizer_cluster.fit_transform(lemma_reviews_train)\n",
    "X_cluster = pd.DataFrame(vector.toarray(),columns=vectorizer_cluster.get_feature_names())\n",
    "X_cluster.shape"
   ]
  },
  {
   "cell_type": "code",
   "execution_count": null,
   "metadata": {},
   "outputs": [],
   "source": []
  },
  {
   "cell_type": "markdown",
   "metadata": {},
   "source": [
    "### Positive reviews"
   ]
  },
  {
   "cell_type": "code",
   "execution_count": 54,
   "metadata": {},
   "outputs": [],
   "source": [
    "X_pos = X_cluster[np.array(Y_train['sentiment']==1)]"
   ]
  },
  {
   "cell_type": "code",
   "execution_count": 68,
   "metadata": {},
   "outputs": [
    {
     "name": "stdout",
     "output_type": "stream",
     "text": [
      "For n_clusters=5, The Silhouette Coefficient is 0.0026607559884136316\n",
      "For n_clusters=6, The Silhouette Coefficient is 0.0029759020479289094\n",
      "For n_clusters=7, The Silhouette Coefficient is 0.002836477494435688\n",
      "For n_clusters=8, The Silhouette Coefficient is 0.0036058417235418816\n",
      "For n_clusters=9, The Silhouette Coefficient is 0.0038333397558021104\n",
      "For n_clusters=10, The Silhouette Coefficient is 0.003414188748259361\n",
      "For n_clusters=11, The Silhouette Coefficient is 0.0038658959683047145\n",
      "For n_clusters=12, The Silhouette Coefficient is 0.004082655470455615\n",
      "For n_clusters=13, The Silhouette Coefficient is 0.004044121069936238\n",
      "For n_clusters=14, The Silhouette Coefficient is 0.004561654571578367\n",
      "For n_clusters=15, The Silhouette Coefficient is 0.004885117181965697\n",
      "For n_clusters=16, The Silhouette Coefficient is 0.004822017602844256\n",
      "For n_clusters=17, The Silhouette Coefficient is 0.005105529410174252\n"
     ]
    }
   ],
   "source": [
    "## Find the best K for positive sentiment\n",
    "from sklearn.metrics import silhouette_score\n",
    "Sum_of_squared_distances_pos = []\n",
    "K = range(5,18)\n",
    "for k in K:\n",
    "    km = KMeans(n_clusters=k, init='k-means++', max_iter=100, n_init=1,random_state=1000,algorithm='full')\n",
    "    km = km.fit(X_pos)\n",
    "    Sum_of_squared_distances_pos.append(km.inertia_)\n",
    "    label = km.labels_\n",
    "    sil_coeff = silhouette_score(X_pos, label, metric = 'euclidean')\n",
    "    print(\"For n_clusters={}, The Silhouette Coefficient is {}\".format(k, sil_coeff))"
   ]
  },
  {
   "cell_type": "code",
   "execution_count": 69,
   "metadata": {},
   "outputs": [
    {
     "data": {
      "image/png": "[encoded data removed]",
      "text/plain": [
       "<Figure size 432x288 with 1 Axes>"
      ]
     },
     "metadata": {
      "needs_background": "light"
     },
     "output_type": "display_data"
    }
   ],
   "source": [
    "plt.plot(K, Sum_of_squared_distances_pos, 'bx-')\n",
    "plt.xlabel('k')\n",
    "plt.ylabel('Sum_of_squared_distances')\n",
    "plt.title('Elbow Method For Optimal k')\n",
    "plt.show()"
   ]
  },
  {
   "cell_type": "code",
   "execution_count": null,
   "metadata": {},
   "outputs": [],
   "source": []
  },
  {
   "cell_type": "code",
   "execution_count": 70,
   "metadata": {},
   "outputs": [
    {
     "name": "stdout",
     "output_type": "stream",
     "text": [
      "CPU times: user 15.4 s, sys: 295 ms, total: 15.7 s\n",
      "Wall time: 7.96 s\n"
     ]
    }
   ],
   "source": [
    "from sklearn.cluster import KMeans\n",
    "import numpy as np\n",
    "\n",
    "num_clusters = 12\n",
    " \n",
    "km_pos = KMeans(n_clusters=num_clusters, init='k-means++', max_iter=100, n_init=1,\\\n",
    "            random_state=1000,algorithm='full')\n",
    "\n",
    "%time km_pos.fit(X_pos)\n",
    "\n",
    "clusters = km_pos.labels_.tolist()"
   ]
  },
  {
   "cell_type": "code",
   "execution_count": 81,
   "metadata": {
    "scrolled": true
   },
   "outputs": [
    {
     "name": "stdout",
     "output_type": "stream",
     "text": [
      "Top terms per cluster:\n",
      "Cluster 0\n",
      "animation disney animated cinderella story character bakshi voice child little \n",
      "\n",
      "Cluster 1\n",
      "world people scene first character woman young never little story \n",
      "\n",
      "Cluster 2\n",
      "story character people little beautiful scene first really think wonderful \n",
      "\n",
      "Cluster 3\n",
      "horror creepy zombie really story house slasher scary scene director \n",
      "\n",
      "Cluster 4\n",
      "action scene fight bourne jackie story martial character really sequence \n",
      "\n",
      "Cluster 5\n",
      "family father mother child brother young story character parent daughter \n",
      "\n",
      "Cluster 6\n",
      "comedy funny laugh hilarious watch romantic character funniest really scene \n",
      "\n",
      "Cluster 7\n",
      "series episode character first original season story watch think really \n",
      "\n",
      "Cluster 8\n",
      "really think character watch people thing scene first thought little \n",
      "\n",
      "Cluster 9\n",
      "episode season series first character really columbo story watch think \n",
      "\n",
      "Cluster 10\n",
      "performance music musical actor character scene dance story oscar wonderful \n",
      "\n",
      "Cluster 11\n",
      "excellent version story performance actor character scene first little never \n",
      "\n"
     ]
    }
   ],
   "source": [
    "print(\"Top terms per cluster:\")\n",
    "order_centroids_pos = km_pos.cluster_centers_.argsort()[:, ::-1]\n",
    "terms_pos = vectorizer_cluster.get_feature_names()\n",
    "for i in range(num_clusters):\n",
    "    print(f\"Cluster {i}\"),\n",
    "    for ind in order_centroids_pos[i, :10]:\n",
    "        print(terms_pos[ind],end=' '),\n",
    "    print('\\n')"
   ]
  },
  {
   "cell_type": "code",
   "execution_count": 82,
   "metadata": {},
   "outputs": [],
   "source": [
    "frame_pos = pd.DataFrame(clusters,columns=['group'])"
   ]
  },
  {
   "cell_type": "code",
   "execution_count": 83,
   "metadata": {},
   "outputs": [
    {
     "data": {
      "text/plain": [
       "group\n",
       "0      307\n",
       "1     4006\n",
       "2     1038\n",
       "3      506\n",
       "4      483\n",
       "5      754\n",
       "6      953\n",
       "7      343\n",
       "8     1671\n",
       "9      326\n",
       "10    1360\n",
       "11     724\n",
       "Name: group, dtype: int64"
      ]
     },
     "execution_count": 83,
     "metadata": {},
     "output_type": "execute_result"
    }
   ],
   "source": [
    "frame_pos.groupby('group')['group'].count()"
   ]
  },
  {
   "cell_type": "code",
   "execution_count": 108,
   "metadata": {},
   "outputs": [
    {
     "name": "stderr",
     "output_type": "stream",
     "text": [
      "/anaconda3/lib/python3.7/site-packages/pandas/core/indexing.py:362: SettingWithCopyWarning: \n",
      "A value is trying to be set on a copy of a slice from a DataFrame.\n",
      "Try using .loc[row_indexer,col_indexer] = value instead\n",
      "\n",
      "See the caveats in the documentation: http://pandas.pydata.org/pandas-docs/stable/indexing.html#indexing-view-versus-copy\n",
      "  self.obj[key] = _infer_fill_value(value)\n",
      "/anaconda3/lib/python3.7/site-packages/pandas/core/indexing.py:635: SettingWithCopyWarning: \n",
      "A value is trying to be set on a copy of a slice from a DataFrame.\n",
      "Try using .loc[row_indexer,col_indexer] = value instead\n",
      "\n",
      "See the caveats in the documentation: http://pandas.pydata.org/pandas-docs/stable/indexing.html#indexing-view-versus-copy\n",
      "  self.obj[item_labels[indexer[info_axis]]] = value\n"
     ]
    }
   ],
   "source": [
    "X_pos.loc[:,'Cluster_Group'] = clusters"
   ]
  },
  {
   "cell_type": "code",
   "execution_count": 109,
   "metadata": {},
   "outputs": [
    {
     "data": {
      "text/html": [
       "<div>\n",
       "<style scoped>\n",
       "    .dataframe tbody tr th:only-of-type {\n",
       "        vertical-align: middle;\n",
       "    }\n",
       "\n",
       "    .dataframe tbody tr th {\n",
       "        vertical-align: top;\n",
       "    }\n",
       "\n",
       "    .dataframe thead th {\n",
       "        text-align: right;\n",
       "    }\n",
       "</style>\n",
       "<table border=\"1\" class=\"dataframe\">\n",
       "  <thead>\n",
       "    <tr style=\"text-align: right;\">\n",
       "      <th>Cluster_Group</th>\n",
       "      <th>0</th>\n",
       "      <th>1</th>\n",
       "      <th>2</th>\n",
       "      <th>3</th>\n",
       "      <th>4</th>\n",
       "      <th>5</th>\n",
       "      <th>6</th>\n",
       "      <th>7</th>\n",
       "      <th>8</th>\n",
       "      <th>9</th>\n",
       "      <th>10</th>\n",
       "      <th>11</th>\n",
       "    </tr>\n",
       "  </thead>\n",
       "  <tbody>\n",
       "    <tr>\n",
       "      <th>abandoned</th>\n",
       "      <td>0.238088</td>\n",
       "      <td>4.833884</td>\n",
       "      <td>0.451943</td>\n",
       "      <td>1.504723</td>\n",
       "      <td>0.189608</td>\n",
       "      <td>1.187654</td>\n",
       "      <td>0.432910</td>\n",
       "      <td>0.083476</td>\n",
       "      <td>0.673075</td>\n",
       "      <td>0.292880</td>\n",
       "      <td>0.821791</td>\n",
       "      <td>0.965534</td>\n",
       "    </tr>\n",
       "    <tr>\n",
       "      <th>ability</th>\n",
       "      <td>0.905905</td>\n",
       "      <td>8.119622</td>\n",
       "      <td>3.150454</td>\n",
       "      <td>0.949321</td>\n",
       "      <td>1.281501</td>\n",
       "      <td>1.435991</td>\n",
       "      <td>1.848082</td>\n",
       "      <td>0.698266</td>\n",
       "      <td>4.757160</td>\n",
       "      <td>0.765042</td>\n",
       "      <td>3.770974</td>\n",
       "      <td>1.246423</td>\n",
       "    </tr>\n",
       "    <tr>\n",
       "      <th>absolute</th>\n",
       "      <td>1.294322</td>\n",
       "      <td>8.255033</td>\n",
       "      <td>0.299029</td>\n",
       "      <td>1.298474</td>\n",
       "      <td>0.332741</td>\n",
       "      <td>0.762369</td>\n",
       "      <td>2.121049</td>\n",
       "      <td>0.672191</td>\n",
       "      <td>1.129141</td>\n",
       "      <td>1.205066</td>\n",
       "      <td>2.748531</td>\n",
       "      <td>0.520341</td>\n",
       "    </tr>\n",
       "    <tr>\n",
       "      <th>absolutely</th>\n",
       "      <td>1.515396</td>\n",
       "      <td>14.988931</td>\n",
       "      <td>4.226500</td>\n",
       "      <td>2.574022</td>\n",
       "      <td>1.556338</td>\n",
       "      <td>3.093195</td>\n",
       "      <td>6.169863</td>\n",
       "      <td>2.211430</td>\n",
       "      <td>15.014273</td>\n",
       "      <td>2.337501</td>\n",
       "      <td>12.207613</td>\n",
       "      <td>4.032761</td>\n",
       "    </tr>\n",
       "    <tr>\n",
       "      <th>absurd</th>\n",
       "      <td>0.034877</td>\n",
       "      <td>4.092898</td>\n",
       "      <td>0.406615</td>\n",
       "      <td>0.858082</td>\n",
       "      <td>0.310376</td>\n",
       "      <td>1.046798</td>\n",
       "      <td>1.060259</td>\n",
       "      <td>0.000000</td>\n",
       "      <td>1.052556</td>\n",
       "      <td>0.194481</td>\n",
       "      <td>0.741934</td>\n",
       "      <td>0.542564</td>\n",
       "    </tr>\n",
       "  </tbody>\n",
       "</table>\n",
       "</div>"
      ],
      "text/plain": [
       "Cluster_Group        0          1         2         3         4         5   \\\n",
       "abandoned      0.238088   4.833884  0.451943  1.504723  0.189608  1.187654   \n",
       "ability        0.905905   8.119622  3.150454  0.949321  1.281501  1.435991   \n",
       "absolute       1.294322   8.255033  0.299029  1.298474  0.332741  0.762369   \n",
       "absolutely     1.515396  14.988931  4.226500  2.574022  1.556338  3.093195   \n",
       "absurd         0.034877   4.092898  0.406615  0.858082  0.310376  1.046798   \n",
       "\n",
       "Cluster_Group        6         7          8         9          10        11  \n",
       "abandoned      0.432910  0.083476   0.673075  0.292880   0.821791  0.965534  \n",
       "ability        1.848082  0.698266   4.757160  0.765042   3.770974  1.246423  \n",
       "absolute       2.121049  0.672191   1.129141  1.205066   2.748531  0.520341  \n",
       "absolutely     6.169863  2.211430  15.014273  2.337501  12.207613  4.032761  \n",
       "absurd         1.060259  0.000000   1.052556  0.194481   0.741934  0.542564  "
      ]
     },
     "execution_count": 109,
     "metadata": {},
     "output_type": "execute_result"
    }
   ],
   "source": [
    "pos_group = X_pos.groupby('Cluster_Group').sum().transpose()\n",
    "pos_group.head()"
   ]
  },
  {
   "cell_type": "code",
   "execution_count": 117,
   "metadata": {},
   "outputs": [
    {
     "name": "stdout",
     "output_type": "stream",
     "text": [
      "group0 animation     48.532183\n",
      "disney        45.419061\n",
      "animated      19.831623\n",
      "cinderella    17.330787\n",
      "story         14.790318\n",
      "character     13.225536\n",
      "bakshi        11.815163\n",
      "voice         10.322878\n",
      "child         10.049323\n",
      "little         8.356172\n",
      "music          7.785941\n",
      "version        7.764446\n",
      "watch          7.070372\n",
      "really         7.014280\n",
      "first          7.001950\n",
      "Name: 0, dtype: float64\n",
      "group1 world          87.218386\n",
      "people         83.447752\n",
      "scene          75.780126\n",
      "first          75.140978\n",
      "character      69.832719\n",
      "woman          63.406111\n",
      "young          63.253160\n",
      "never          60.022977\n",
      "little         57.096909\n",
      "story          55.345651\n",
      "watch          54.168593\n",
      "thing          53.536561\n",
      "documentary    51.838668\n",
      "director       49.695446\n",
      "another        46.519597\n",
      "Name: 1, dtype: float64\n",
      "group2 story        168.265900\n",
      "character     39.104531\n",
      "people        28.612665\n",
      "little        22.853635\n",
      "beautiful     22.569824\n",
      "scene         20.862116\n",
      "first         20.753243\n",
      "really        20.603516\n",
      "think         19.613312\n",
      "wonderful     19.454721\n",
      "actor         19.343404\n",
      "watch         19.172313\n",
      "young         18.336647\n",
      "thing         17.835205\n",
      "world         16.706343\n",
      "Name: 2, dtype: float64\n",
      "group3 horror       85.395090\n",
      "creepy       17.339627\n",
      "zombie       17.188602\n",
      "really       14.739296\n",
      "story        14.632140\n",
      "house        14.436899\n",
      "slasher      12.710897\n",
      "scary        12.632758\n",
      "scene        12.441485\n",
      "director     12.276103\n",
      "genre        11.954763\n",
      "killer       11.759995\n",
      "effect       11.659607\n",
      "budget       11.625263\n",
      "halloween    11.487765\n",
      "Name: 3, dtype: float64\n",
      "group4 action       87.326385\n",
      "scene        20.949526\n",
      "fight        16.727068\n",
      "bourne       16.381860\n",
      "jackie       15.571129\n",
      "story        14.689638\n",
      "martial      13.862345\n",
      "character    13.793106\n",
      "really       11.396969\n",
      "sequence     11.041269\n",
      "watch        11.023299\n",
      "stunt        10.996883\n",
      "first        10.280943\n",
      "better        9.793946\n",
      "think         8.528580\n",
      "Name: 4, dtype: float64\n",
      "group5 family       117.450881\n",
      "father        46.301008\n",
      "mother        29.490981\n",
      "child         26.820463\n",
      "brother       24.754324\n",
      "young         23.032156\n",
      "story         22.976326\n",
      "character     20.621627\n",
      "parent        18.572091\n",
      "daughter      18.515087\n",
      "woman         17.081960\n",
      "little        16.165209\n",
      "sister        15.888113\n",
      "people        15.650179\n",
      "friend        15.296120\n",
      "Name: 5, dtype: float64\n",
      "group6 comedy       113.612307\n",
      "funny         87.235548\n",
      "laugh         40.607987\n",
      "hilarious     31.258918\n",
      "watch         24.369139\n",
      "romantic      24.005744\n",
      "character     23.311068\n",
      "funniest      23.129138\n",
      "really        22.435015\n",
      "scene         21.435521\n",
      "people        21.343424\n",
      "think         20.193774\n",
      "humor         19.488547\n",
      "eddie         18.571517\n",
      "first         17.212279\n",
      "Name: 6, dtype: float64\n",
      "group7 series       101.719876\n",
      "episode       23.657160\n",
      "character     14.192457\n",
      "first         11.124776\n",
      "original       9.954889\n",
      "season         8.451921\n",
      "story          8.215286\n",
      "watch          7.812753\n",
      "think          7.124733\n",
      "really         6.862310\n",
      "watching       6.348580\n",
      "thing          6.217069\n",
      "world          6.210757\n",
      "anime          5.973935\n",
      "every          5.973432\n",
      "Name: 7, dtype: float64\n",
      "group8 really       145.333271\n",
      "think         94.439126\n",
      "character     79.191562\n",
      "watch         71.840866\n",
      "people        66.946013\n",
      "thing         52.938158\n",
      "scene         51.022237\n",
      "first         50.727672\n",
      "thought       49.729315\n",
      "little        44.126245\n",
      "watching      41.745901\n",
      "actor         41.234734\n",
      "loved         41.173993\n",
      "liked         40.131945\n",
      "better        39.828713\n",
      "Name: 8, dtype: float64\n",
      "group9 episode      93.368202\n",
      "season       48.685313\n",
      "series       19.124029\n",
      "first        16.539498\n",
      "character    13.148254\n",
      "really        9.195495\n",
      "columbo       8.812223\n",
      "story         8.366138\n",
      "watch         8.208090\n",
      "think         7.692330\n",
      "always        7.058254\n",
      "people        6.884831\n",
      "watching      6.639427\n",
      "never         6.460732\n",
      "thing         6.458348\n",
      "Name: 9, dtype: float64\n",
      "group10 performance    117.852827\n",
      "music           48.566696\n",
      "musical         45.230159\n",
      "actor           42.974613\n",
      "character       42.623920\n",
      "scene           35.355625\n",
      "dance           34.500544\n",
      "story           33.964293\n",
      "oscar           31.472819\n",
      "wonderful       29.990320\n",
      "beautiful       26.128212\n",
      "kelly           26.054034\n",
      "first           25.644817\n",
      "never           24.272744\n",
      "number          23.540950\n",
      "Name: 10, dtype: float64\n",
      "group11 excellent      104.362485\n",
      "version         37.065474\n",
      "story           18.268409\n",
      "performance     17.848395\n",
      "actor           17.595786\n",
      "character       17.546162\n",
      "scene           14.930868\n",
      "first           13.300492\n",
      "little          12.611886\n",
      "never           12.546597\n",
      "really          12.541482\n",
      "think           12.140542\n",
      "people          12.137429\n",
      "watch           11.309415\n",
      "always          10.751154\n",
      "Name: 11, dtype: float64\n"
     ]
    }
   ],
   "source": [
    "for i in range(12):\n",
    "    print(f'group{i} {pos_group.loc[:,i].sort_values(ascending=False).head(15)}')"
   ]
  },
  {
   "cell_type": "code",
   "execution_count": null,
   "metadata": {},
   "outputs": [],
   "source": []
  },
  {
   "cell_type": "markdown",
   "metadata": {},
   "source": [
    "### Use the negative reviews"
   ]
  },
  {
   "cell_type": "code",
   "execution_count": 89,
   "metadata": {},
   "outputs": [],
   "source": [
    "## reset the stop words for negative reviews\n",
    "stop=stopwords.words('english')+['movie','film','best','ever','good','one','well',\\\n",
    "                                  'favorite','worse','waste','bad','worst','look','like',\\\n",
    "                                 'many','acting','seen','great','would','great','get','give',\\\n",
    "                                 'would','could','hand','see','time','year','also','make',\\\n",
    "                                 'also','saw','time','still','think','really','version','thing',\\\n",
    "                                'watch','watching']"
   ]
  },
  {
   "cell_type": "code",
   "execution_count": 90,
   "metadata": {},
   "outputs": [
    {
     "data": {
      "text/plain": [
       "(24902, 2500)"
      ]
     },
     "execution_count": 90,
     "metadata": {},
     "output_type": "execute_result"
    }
   ],
   "source": [
    "vectorizer_cluster2 = TfidfVectorizer(ngram_range=(1,1),\\\n",
    "                                     max_df = 0.5,\\\n",
    "                                     token_pattern=r'\\b[a-zA-Z]{5,20}\\b',\\\n",
    "                                     stop_words=stop,max_features=2500)\n",
    "# vectorize the corpus\n",
    "vector2 = vectorizer_cluster2.fit_transform(lemma_reviews_train)\n",
    "X_cluster2 = pd.DataFrame(vector2.toarray(),columns=vectorizer_cluster2.get_feature_names())\n",
    "X_cluster2.shape"
   ]
  },
  {
   "cell_type": "code",
   "execution_count": 91,
   "metadata": {},
   "outputs": [],
   "source": [
    "X_neg = X_cluster2[np.array(Y_train['sentiment']==0)]"
   ]
  },
  {
   "cell_type": "code",
   "execution_count": null,
   "metadata": {},
   "outputs": [],
   "source": []
  },
  {
   "cell_type": "code",
   "execution_count": 102,
   "metadata": {},
   "outputs": [
    {
     "name": "stdout",
     "output_type": "stream",
     "text": [
      "For n_clusters=10, The Silhouette Coefficient is 0.0031168646212235904\n",
      "For n_clusters=11, The Silhouette Coefficient is 0.0032539478058072925\n",
      "For n_clusters=12, The Silhouette Coefficient is 0.003358660380091437\n",
      "For n_clusters=13, The Silhouette Coefficient is 0.004375771399467042\n",
      "For n_clusters=14, The Silhouette Coefficient is 0.004830353180810371\n",
      "For n_clusters=15, The Silhouette Coefficient is 0.004505245554849951\n",
      "For n_clusters=16, The Silhouette Coefficient is 0.004930039094482833\n",
      "For n_clusters=17, The Silhouette Coefficient is 0.004276784654101922\n",
      "For n_clusters=18, The Silhouette Coefficient is 0.005479109918120657\n"
     ]
    }
   ],
   "source": [
    "## have a look at different k performance\n",
    "from sklearn.metrics import silhouette_score\n",
    "Sum_of_squared_distances = []\n",
    "K = range(10,19)\n",
    "for k in K:\n",
    "    km = KMeans(n_clusters=k, init='k-means++', max_iter=100, n_init=1)\n",
    "    km = km.fit(X_neg)\n",
    "    Sum_of_squared_distances.append(km.inertia_)\n",
    "    label = km.labels_\n",
    "    sil_coeff = silhouette_score(X_neg, label, metric = 'euclidean')\n",
    "    print(\"For n_clusters={}, The Silhouette Coefficient is {}\".format(k, sil_coeff))"
   ]
  },
  {
   "cell_type": "code",
   "execution_count": 104,
   "metadata": {},
   "outputs": [
    {
     "data": {
      "image/png": "[encoded data removed]",
      "text/plain": [
       "<Figure size 432x288 with 1 Axes>"
      ]
     },
     "metadata": {
      "needs_background": "light"
     },
     "output_type": "display_data"
    }
   ],
   "source": [
    "plt.plot(K, Sum_of_squared_distances, 'bx-')\n",
    "plt.xlabel('k')\n",
    "plt.ylabel('Sum_of_squared_distances')\n",
    "plt.title('Elbow Method For Optimal k')\n",
    "plt.show()"
   ]
  },
  {
   "cell_type": "code",
   "execution_count": null,
   "metadata": {},
   "outputs": [],
   "source": []
  },
  {
   "cell_type": "code",
   "execution_count": 105,
   "metadata": {},
   "outputs": [
    {
     "name": "stdout",
     "output_type": "stream",
     "text": [
      "CPU times: user 9.79 s, sys: 295 ms, total: 10.1 s\n",
      "Wall time: 5.23 s\n"
     ]
    }
   ],
   "source": [
    "num_clusters = 10\n",
    " \n",
    "km_neg = KMeans(n_clusters=num_clusters, init='k-means++', max_iter=100, n_init=1,\\\n",
    "            random_state=1000,algorithm='full')\n",
    "\n",
    "%time km_neg.fit(X_neg)\n",
    "\n",
    "clusters_neg = km_neg.labels_.tolist()"
   ]
  },
  {
   "cell_type": "code",
   "execution_count": 106,
   "metadata": {},
   "outputs": [
    {
     "name": "stdout",
     "output_type": "stream",
     "text": [
      "Top terms per cluster:\n",
      "Cluster 0\n",
      "oscar series remember fired strangely chaplin bette class scheme notion \n",
      "\n",
      "Cluster 1\n",
      "horrific scheme scenery blonde killer flesh strangely buddy godfather eerie \n",
      "\n",
      "Cluster 2\n",
      "activity searching bette director strangely notion scheme horrendous chaplin terror \n",
      "\n",
      "Cluster 3\n",
      "awesome terror activity strangely scheme perfectly chaplin monster nicely actual \n",
      "\n",
      "Cluster 4\n",
      "chaplin scheme strangely notion lived perfectly fired sends political woman \n",
      "\n",
      "Cluster 5\n",
      "zombie horrific scheme perfectly buddy vehicle flawless flesh eerie notion \n",
      "\n",
      "Cluster 6\n",
      "environment servant secretary chaplin fired basis freak strangely carter bette \n",
      "\n",
      "Cluster 7\n",
      "perfectly bette nicely fired scheme strangely lived notion somewhere mirror \n",
      "\n",
      "Cluster 8\n",
      "funniest comedic laugh perfectly scheme humanity chaplin mirror fired bette \n",
      "\n",
      "Cluster 9\n",
      "substance perfectly scheme strangely chaplin fired bette actual nicely terror \n",
      "\n"
     ]
    }
   ],
   "source": [
    "print(\"Top terms per cluster:\")\n",
    "order_centroids_neg = km_neg.cluster_centers_.argsort()[:, ::-1]\n",
    "terms_neg = vectorizer_cluster.get_feature_names()\n",
    "for i in range(num_clusters):\n",
    "    print(f\"Cluster {i}\"),\n",
    "    for ind in order_centroids_neg[i, :10]:\n",
    "        print(terms_neg[ind],end=' '),\n",
    "    print('\\n')"
   ]
  },
  {
   "cell_type": "code",
   "execution_count": 100,
   "metadata": {},
   "outputs": [],
   "source": [
    "frame_neg = pd.DataFrame(clusters_neg,columns=['group'])"
   ]
  },
  {
   "cell_type": "code",
   "execution_count": 101,
   "metadata": {},
   "outputs": [
    {
     "data": {
      "text/plain": [
       "group\n",
       "0     535\n",
       "1     789\n",
       "2    1310\n",
       "3     701\n",
       "4    2310\n",
       "5     169\n",
       "6     447\n",
       "7    4817\n",
       "8     754\n",
       "9     599\n",
       "Name: group, dtype: int64"
      ]
     },
     "execution_count": 101,
     "metadata": {},
     "output_type": "execute_result"
    }
   ],
   "source": [
    "frame_neg.groupby('group')['group'].count()"
   ]
  },
  {
   "cell_type": "code",
   "execution_count": 118,
   "metadata": {},
   "outputs": [],
   "source": [
    "X_neg.loc[:,'Cluster_Group'] = clusters_neg"
   ]
  },
  {
   "cell_type": "code",
   "execution_count": 119,
   "metadata": {},
   "outputs": [
    {
     "data": {
      "text/html": [
       "<div>\n",
       "<style scoped>\n",
       "    .dataframe tbody tr th:only-of-type {\n",
       "        vertical-align: middle;\n",
       "    }\n",
       "\n",
       "    .dataframe tbody tr th {\n",
       "        vertical-align: top;\n",
       "    }\n",
       "\n",
       "    .dataframe thead th {\n",
       "        text-align: right;\n",
       "    }\n",
       "</style>\n",
       "<table border=\"1\" class=\"dataframe\">\n",
       "  <thead>\n",
       "    <tr style=\"text-align: right;\">\n",
       "      <th>Cluster_Group</th>\n",
       "      <th>0</th>\n",
       "      <th>1</th>\n",
       "      <th>2</th>\n",
       "      <th>3</th>\n",
       "      <th>4</th>\n",
       "      <th>5</th>\n",
       "      <th>6</th>\n",
       "      <th>7</th>\n",
       "      <th>8</th>\n",
       "      <th>9</th>\n",
       "    </tr>\n",
       "  </thead>\n",
       "  <tbody>\n",
       "    <tr>\n",
       "      <th>abandoned</th>\n",
       "      <td>0.593837</td>\n",
       "      <td>2.491399</td>\n",
       "      <td>0.384785</td>\n",
       "      <td>0.308113</td>\n",
       "      <td>2.947619</td>\n",
       "      <td>0.689278</td>\n",
       "      <td>0.858917</td>\n",
       "      <td>3.709522</td>\n",
       "      <td>0.229507</td>\n",
       "      <td>0.558908</td>\n",
       "    </tr>\n",
       "    <tr>\n",
       "      <th>ability</th>\n",
       "      <td>1.668099</td>\n",
       "      <td>1.360829</td>\n",
       "      <td>4.143213</td>\n",
       "      <td>1.046488</td>\n",
       "      <td>6.648218</td>\n",
       "      <td>0.534887</td>\n",
       "      <td>1.232278</td>\n",
       "      <td>12.677816</td>\n",
       "      <td>1.750845</td>\n",
       "      <td>0.926611</td>\n",
       "    </tr>\n",
       "    <tr>\n",
       "      <th>absolute</th>\n",
       "      <td>0.919896</td>\n",
       "      <td>2.384508</td>\n",
       "      <td>3.618428</td>\n",
       "      <td>2.245095</td>\n",
       "      <td>4.391706</td>\n",
       "      <td>0.849204</td>\n",
       "      <td>0.484728</td>\n",
       "      <td>9.822058</td>\n",
       "      <td>1.871761</td>\n",
       "      <td>1.510048</td>\n",
       "    </tr>\n",
       "    <tr>\n",
       "      <th>absolutely</th>\n",
       "      <td>2.724908</td>\n",
       "      <td>6.350804</td>\n",
       "      <td>13.032065</td>\n",
       "      <td>9.632541</td>\n",
       "      <td>15.060191</td>\n",
       "      <td>1.057852</td>\n",
       "      <td>2.557672</td>\n",
       "      <td>29.702637</td>\n",
       "      <td>8.486263</td>\n",
       "      <td>5.270079</td>\n",
       "    </tr>\n",
       "    <tr>\n",
       "      <th>absurd</th>\n",
       "      <td>0.806945</td>\n",
       "      <td>1.410450</td>\n",
       "      <td>2.215452</td>\n",
       "      <td>1.207728</td>\n",
       "      <td>7.397343</td>\n",
       "      <td>0.606371</td>\n",
       "      <td>0.642641</td>\n",
       "      <td>11.281981</td>\n",
       "      <td>2.114650</td>\n",
       "      <td>3.093509</td>\n",
       "    </tr>\n",
       "  </tbody>\n",
       "</table>\n",
       "</div>"
      ],
      "text/plain": [
       "Cluster_Group         0         1          2         3          4         5  \\\n",
       "abandoned      0.593837  2.491399   0.384785  0.308113   2.947619  0.689278   \n",
       "ability        1.668099  1.360829   4.143213  1.046488   6.648218  0.534887   \n",
       "absolute       0.919896  2.384508   3.618428  2.245095   4.391706  0.849204   \n",
       "absolutely     2.724908  6.350804  13.032065  9.632541  15.060191  1.057852   \n",
       "absurd         0.806945  1.410450   2.215452  1.207728   7.397343  0.606371   \n",
       "\n",
       "Cluster_Group         6          7         8         9  \n",
       "abandoned      0.858917   3.709522  0.229507  0.558908  \n",
       "ability        1.232278  12.677816  1.750845  0.926611  \n",
       "absolute       0.484728   9.822058  1.871761  1.510048  \n",
       "absolutely     2.557672  29.702637  8.486263  5.270079  \n",
       "absurd         0.642641  11.281981  2.114650  3.093509  "
      ]
     },
     "execution_count": 119,
     "metadata": {},
     "output_type": "execute_result"
    }
   ],
   "source": [
    "neg_group = X_neg.groupby('Cluster_Group').sum().transpose()\n",
    "neg_group.head()"
   ]
  },
  {
   "cell_type": "code",
   "execution_count": 121,
   "metadata": {},
   "outputs": [
    {
     "name": "stdout",
     "output_type": "stream",
     "text": [
      "group0 original     104.011822\n",
      "sequel        31.423358\n",
      "remake        24.260158\n",
      "first         23.264719\n",
      "story         19.210745\n",
      "character     15.725191\n",
      "better        13.528181\n",
      "classic       11.595452\n",
      "scene         11.520693\n",
      "nothing       11.054215\n",
      "little        10.874601\n",
      "disney        10.463007\n",
      "people        10.011880\n",
      "actor          9.857236\n",
      "never          8.942393\n",
      "Name: 0, dtype: float64\n",
      "group1 horror       140.162021\n",
      "scene         25.643688\n",
      "scary         24.477674\n",
      "blood         20.114355\n",
      "killer        19.969457\n",
      "flick         19.473836\n",
      "story         19.370971\n",
      "budget        19.088621\n",
      "going         18.523129\n",
      "effect        17.889302\n",
      "people        17.584318\n",
      "better        17.559617\n",
      "character     17.298645\n",
      "nothing       17.293378\n",
      "first         17.206838\n",
      "Name: 1, dtype: float64\n",
      "group2 actor          118.969520\n",
      "script         105.319109\n",
      "better          44.494048\n",
      "director        36.471695\n",
      "story           35.516569\n",
      "nothing         34.168151\n",
      "scene           29.136890\n",
      "horrible        28.796531\n",
      "character       28.681447\n",
      "terrible        28.229910\n",
      "first           26.968569\n",
      "something       26.269481\n",
      "money           25.921199\n",
      "minute          25.527005\n",
      "performance     25.265506\n",
      "Name: 2, dtype: float64\n",
      "group3 awful        120.079768\n",
      "terrible      34.791838\n",
      "actor         16.570293\n",
      "story         16.530422\n",
      "scene         16.189961\n",
      "people        15.553391\n",
      "character     15.351043\n",
      "money         14.873592\n",
      "never         14.658288\n",
      "actually      14.300975\n",
      "minute        14.256299\n",
      "better        13.394079\n",
      "first         13.190506\n",
      "script        12.334908\n",
      "horrible      12.313793\n",
      "Name: 3, dtype: float64\n",
      "group4 character      207.470455\n",
      "scene          122.015042\n",
      "story          119.905783\n",
      "nothing         59.473093\n",
      "little          59.193340\n",
      "people          58.157077\n",
      "first           57.206635\n",
      "seems           56.154207\n",
      "point           55.815915\n",
      "woman           55.435444\n",
      "something       54.321795\n",
      "director        51.012342\n",
      "minute          49.969531\n",
      "never           48.018753\n",
      "interesting     46.821564\n",
      "Name: 4, dtype: float64\n",
      "group5 zombie      68.049566\n",
      "horror       6.184246\n",
      "scene        5.537822\n",
      "people       5.499735\n",
      "budget       5.225623\n",
      "vampire      4.779054\n",
      "flesh        4.440993\n",
      "flick        4.416912\n",
      "effect       3.987750\n",
      "nothing      3.879120\n",
      "actually     3.638887\n",
      "minute       3.626617\n",
      "woman        3.441354\n",
      "blood        3.383413\n",
      "story        3.365539\n",
      "Name: 5, dtype: float64\n",
      "group6 episode      61.704785\n",
      "series       56.308207\n",
      "season       18.721738\n",
      "character    13.746710\n",
      "first        13.693642\n",
      "batman       12.574515\n",
      "freddy       10.929677\n",
      "story        10.682596\n",
      "cartoon       9.902357\n",
      "better        9.736181\n",
      "nothing       9.248949\n",
      "scooby        9.131824\n",
      "people        7.987975\n",
      "pretty        7.858156\n",
      "something     7.690658\n",
      "Name: 6, dtype: float64\n",
      "group7 people       123.753437\n",
      "better        83.083915\n",
      "never         79.229688\n",
      "first         77.852646\n",
      "scene         76.240076\n",
      "story         74.360098\n",
      "little        74.327802\n",
      "nothing       69.133515\n",
      "something     69.107815\n",
      "minute        67.603863\n",
      "money         67.431734\n",
      "woman         62.170805\n",
      "another       62.170280\n",
      "pretty        59.394471\n",
      "going         58.930549\n",
      "Name: 7, dtype: float64\n",
      "group8 funny        126.678024\n",
      "comedy        56.381830\n",
      "laugh         35.925710\n",
      "people        20.335566\n",
      "scene         19.367560\n",
      "humor         18.871319\n",
      "character     17.315373\n",
      "minute        17.248578\n",
      "first         16.570518\n",
      "better        16.451120\n",
      "nothing       15.413749\n",
      "unfunny       14.782131\n",
      "something     14.771179\n",
      "supposed      14.341229\n",
      "money         14.164747\n",
      "Name: 8, dtype: float64\n",
      "group9 stupid       112.871346\n",
      "people        18.801703\n",
      "scene         16.331223\n",
      "story         15.440565\n",
      "character     14.263961\n",
      "first         13.714957\n",
      "better        12.822830\n",
      "actually      12.450561\n",
      "never         11.700980\n",
      "terrible      11.317203\n",
      "horrible      11.175656\n",
      "money         10.857936\n",
      "nothing       10.784831\n",
      "funny         10.687221\n",
      "actor         10.637896\n",
      "Name: 9, dtype: float64\n"
     ]
    }
   ],
   "source": [
    "for i in range(10):\n",
    "    print(f'group{i} {neg_group.loc[:,i].sort_values(ascending=False).head(15)}')"
   ]
  },
  {
   "cell_type": "code",
   "execution_count": null,
   "metadata": {},
   "outputs": [],
   "source": []
  }
 ],
 "metadata": {
  "kernelspec": {
   "display_name": "Python 3",
   "language": "python",
   "name": "python3"
  },
  "language_info": {
   "codemirror_mode": {
    "name": "ipython",
    "version": 3
   },
   "file_extension": ".py",
   "mimetype": "text/x-python",
   "name": "python",
   "nbconvert_exporter": "python",
   "pygments_lexer": "ipython3",
   "version": "3.7.3"
  }
 },
 "nbformat": 4,
 "nbformat_minor": 2
}
