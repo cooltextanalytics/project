{
 "cells": [
  {
   "cell_type": "code",
   "execution_count": 45,
   "metadata": {},
   "outputs": [],
   "source": [
    "import en_core_web_md\n",
    "import spacy\n",
    "from scipy.spatial.distance import cosine\n",
    "import pandas as pd\n",
    "nlp = en_core_web_md.load()"
   ]
  },
  {
   "cell_type": "code",
   "execution_count": 47,
   "metadata": {},
   "outputs": [],
   "source": [
    "df = pd.read_csv('sample.csv')"
   ]
  },
  {
   "cell_type": "code",
   "execution_count": 53,
   "metadata": {},
   "outputs": [],
   "source": [
    "review = list(df['review'])"
   ]
  },
  {
   "cell_type": "code",
   "execution_count": 52,
   "metadata": {},
   "outputs": [
    {
     "name": "stderr",
     "output_type": "stream",
     "text": [
      "[nltk_data] Downloading package wordnet to\n",
      "[nltk_data]     C:\\Users\\yongl\\AppData\\Roaming\\nltk_data...\n",
      "[nltk_data]   Package wordnet is already up-to-date!\n"
     ]
    }
   ],
   "source": [
    "import nltk\n",
    "from nltk.stem import WordNetLemmatizer\n",
    "from nltk import word_tokenize\n",
    "nltk.download('wordnet')\n",
    "lemmatizer = WordNetLemmatizer()\n",
    "\n",
    "from nltk.corpus import stopwords\n",
    "stopwords = set(stopwords.words('english') + [\".\",\",\",\":\", \"''\", \"'s\", \"'\", \"``\",\"!\"])"
   ]
  },
  {
   "cell_type": "code",
   "execution_count": 54,
   "metadata": {},
   "outputs": [],
   "source": [
    "review_word = []\n",
    "\n",
    "for line in review:\n",
    "    line = line.replace(\"\\n\", \"\")        \n",
    "    if len(line) > 0:                \n",
    "        line = [lemmatizer.lemmatize(token) for token in word_tokenize(line)] # tokenizing and lemmatization\n",
    "        for word in line:\n",
    "            if word in stopwords:\n",
    "                line.remove(word) # removing stopwords\n",
    "        review_word.append(line)"
   ]
  },
  {
   "cell_type": "code",
   "execution_count": 57,
   "metadata": {},
   "outputs": [],
   "source": [
    "review_line = []\n",
    "for word in review_word:\n",
    "    line = nlp(f'{\" \".join(word)}') ## convert into nlp sentence\n",
    "    review_line.append(line)"
   ]
  },
  {
   "cell_type": "code",
   "execution_count": 58,
   "metadata": {},
   "outputs": [
    {
     "data": {
      "text/plain": [
       "Well I must say probably worst film I seen year The joke extremely crude ( wa n't expecting from PG movie ) ( Rated PG Canada ) they n't funny With great cast I least expected good acting I n't even get I a huge Rainn Wilson fan is first time I wa extremely disappointed his performance Neither Luke Wilosn Uma Thurman character the least bit likable really could cared le happened either them I n't expect at a the past I really liked movie this director ( Six Days Seven Nights example ) This movie wa NOT worth the $ 10 cost and i strongly encourage not see this movie . I guarantee you be like begging this movie be ."
      ]
     },
     "execution_count": 58,
     "metadata": {},
     "output_type": "execute_result"
    }
   ],
   "source": [
    "review_line[0]"
   ]
  },
  {
   "cell_type": "code",
   "execution_count": 61,
   "metadata": {},
   "outputs": [],
   "source": [
    "from itertools import product\n",
    "# create a list of similarity tuples\n",
    "\n",
    "similarity = []\n",
    "\n",
    "for review1, review2 in product(review_line, repeat=2):\n",
    "    similarity.append((review1, review2, review1.similarity(review2)))\n",
    "\n",
    "similarities = pd.DataFrame(similarity, columns=[\"review1\",\"review2\", \"score\"])"
   ]
  },
  {
   "cell_type": "code",
   "execution_count": 65,
   "metadata": {},
   "outputs": [],
   "source": [
    "# find similar reviews\n",
    "sort_df = similarities[similarities[\"score\"] < 1].sort_values(\n",
    "    by=\"score\", ascending=False).drop_duplicates(\n",
    "    subset=\"score\", keep=\"first\").head(5)"
   ]
  },
  {
   "cell_type": "code",
   "execution_count": 66,
   "metadata": {},
   "outputs": [
    {
     "data": {
      "text/html": [
       "<div>\n",
       "<style scoped>\n",
       "    .dataframe tbody tr th:only-of-type {\n",
       "        vertical-align: middle;\n",
       "    }\n",
       "\n",
       "    .dataframe tbody tr th {\n",
       "        vertical-align: top;\n",
       "    }\n",
       "\n",
       "    .dataframe thead th {\n",
       "        text-align: right;\n",
       "    }\n",
       "</style>\n",
       "<table border=\"1\" class=\"dataframe\">\n",
       "  <thead>\n",
       "    <tr style=\"text-align: right;\">\n",
       "      <th></th>\n",
       "      <th>review1</th>\n",
       "      <th>review2</th>\n",
       "      <th>score</th>\n",
       "    </tr>\n",
       "  </thead>\n",
       "  <tbody>\n",
       "    <tr>\n",
       "      <th>1728842</th>\n",
       "      <td>(-A, pretty, red, headed, woman, waiting, plan...</td>\n",
       "      <td>(Who, would, thought, movie, man, drive, coupl...</td>\n",
       "      <td>0.993276</td>\n",
       "    </tr>\n",
       "    <tr>\n",
       "      <th>1723465</th>\n",
       "      <td>(I, severe, problem, show, several, actually, ...</td>\n",
       "      <td>(Sitting, watch, 14th, season, Bachelor, (, On...</td>\n",
       "      <td>0.992521</td>\n",
       "    </tr>\n",
       "    <tr>\n",
       "      <th>3600864</th>\n",
       "      <td>(For, starter, I, always, fan, Batman, cartoon...</td>\n",
       "      <td>(-A, pretty, red, headed, woman, waiting, plan...</td>\n",
       "      <td>0.992287</td>\n",
       "    </tr>\n",
       "    <tr>\n",
       "      <th>1396864</th>\n",
       "      <td>(I, seriously, ca, n't, believe, Tim, Burton, ...</td>\n",
       "      <td>(-A, pretty, red, headed, woman, waiting, plan...</td>\n",
       "      <td>0.992128</td>\n",
       "    </tr>\n",
       "    <tr>\n",
       "      <th>2818039</th>\n",
       "      <td>(Somewhere, Food, Court, Zip, mall, film, &lt;, b...</td>\n",
       "      <td>(Well, Where, begin, Let, just, say, ;, avoid,...</td>\n",
       "      <td>0.991955</td>\n",
       "    </tr>\n",
       "  </tbody>\n",
       "</table>\n",
       "</div>"
      ],
      "text/plain": [
       "                                                   review1  \\\n",
       "1728842  (-A, pretty, red, headed, woman, waiting, plan...   \n",
       "1723465  (I, severe, problem, show, several, actually, ...   \n",
       "3600864  (For, starter, I, always, fan, Batman, cartoon...   \n",
       "1396864  (I, seriously, ca, n't, believe, Tim, Burton, ...   \n",
       "2818039  (Somewhere, Food, Court, Zip, mall, film, <, b...   \n",
       "\n",
       "                                                   review2     score  \n",
       "1728842  (Who, would, thought, movie, man, drive, coupl...  0.993276  \n",
       "1723465  (Sitting, watch, 14th, season, Bachelor, (, On...  0.992521  \n",
       "3600864  (-A, pretty, red, headed, woman, waiting, plan...  0.992287  \n",
       "1396864  (-A, pretty, red, headed, woman, waiting, plan...  0.992128  \n",
       "2818039  (Well, Where, begin, Let, just, say, ;, avoid,...  0.991955  "
      ]
     },
     "execution_count": 66,
     "metadata": {},
     "output_type": "execute_result"
    }
   ],
   "source": [
    "sort_df"
   ]
  },
  {
   "cell_type": "code",
   "execution_count": null,
   "metadata": {},
   "outputs": [],
   "source": []
  }
 ],
 "metadata": {
  "kernelspec": {
   "display_name": "Python 3",
   "language": "python",
   "name": "python3"
  },
  "language_info": {
   "codemirror_mode": {
    "name": "ipython",
    "version": 3
   },
   "file_extension": ".py",
   "mimetype": "text/x-python",
   "name": "python",
   "nbconvert_exporter": "python",
   "pygments_lexer": "ipython3",
   "version": "3.7.2"
  }
 },
 "nbformat": 4,
 "nbformat_minor": 2
}
