{
 "cells": [
  {
   "cell_type": "code",
   "execution_count": 137,
   "metadata": {},
   "outputs": [],
   "source": [
    "c0_neg = list(pd.read_excel('negative_cluster_more.xlsx',sheet_name='cluster0')['review'])\n",
    "c1_neg = list(pd.read_excel('negative_cluster_more.xlsx',sheet_name='cluster1')['review'])\n",
    "c2_neg =list( pd.read_excel('negative_cluster_more.xlsx',sheet_name='cluster2')['review'])\n",
    "c3_neg = list(pd.read_excel('negative_cluster_more.xlsx',sheet_name='cluster3')['review'])\n",
    "c4_neg = list(pd.read_excel('negative_cluster_more.xlsx',sheet_name='cluster4')['review'])\n",
    "c5_neg = list(pd.read_excel('negative_cluster_more.xlsx',sheet_name='cluster5')['review'])\n",
    "c6_neg = list(pd.read_excel('negative_cluster_more.xlsx',sheet_name='cluster6')['review'])\n",
    "c0_pos = list(pd.read_excel('positive_cluster_more.xlsx',sheet_name='cluster0')['review'])\n",
    "c1_pos =list( pd.read_excel('positive_cluster_more.xlsx',sheet_name='cluster1')['review'])\n",
    "c2_pos = list(pd.read_excel('positive_cluster_more.xlsx',sheet_name='cluster2')['review'])"
   ]
  },
  {
   "cell_type": "code",
   "execution_count": 168,
   "metadata": {},
   "outputs": [],
   "source": [
    "def remove_num_name(corpus):\n",
    "    news=[]\n",
    "    for i in corpus:\n",
    "        new=re.sub(r'[0-9]+','',str(i))# remove numbers\n",
    "        new=new.replace('\\n','').replace('\\\\','').replace('<','').replace('/','').replace('>','').replace('_','').replace('<br />','').replace('(','').replace(')','')          # remove delimeter \n",
    "                              \n",
    "        #new=re.sub(r'[A-Z][a-z]*[\\s-][A-Z][a-z]*','',new) # remove full name\n",
    "        #new=re.sub(r'[A-Z][a-z]+','',new)                 # remove part of name\n",
    "        news.append(new)\n",
    "    return news"
   ]
  },
  {
   "cell_type": "code",
   "execution_count": 169,
   "metadata": {},
   "outputs": [],
   "source": [
    "c0_neg=remove_num_name(c0_neg)\n",
    "c1_neg=remove_num_name(c1_neg)\n",
    "c2_neg=remove_num_name(c2_neg)\n",
    "c3_neg=remove_num_name(c3_neg)\n",
    "c4_neg=remove_num_name(c4_neg)\n",
    "c5_neg=remove_num_name(c5_neg)\n",
    "c6_neg=remove_num_name(c6_neg)\n",
    "c0_pos=remove_num_name(c0_pos)\n",
    "c1_pos=remove_num_name(c1_pos)\n",
    "c2_pos=remove_num_name(c2_pos)"
   ]
  },
  {
   "cell_type": "code",
   "execution_count": 267,
   "metadata": {},
   "outputs": [],
   "source": [
    "from nltk.corpus import stopwords \n",
    "from nltk.stem.wordnet import WordNetLemmatizer\n",
    "import string\n",
    "stop = set(stopwords.words('english')+['movie','would','really', 'thing','could'])\n",
    "exclude = set(string.punctuation) \n",
    "lemma = WordNetLemmatizer()\n",
    "def clean(doc):\n",
    "    stop_free = [i for i in nltk.word_tokenize(doc.lower()) if (i not in stop) and (len(i)>4)]\n",
    "    punc_free = ' '.join(ch for ch in stop_free if ch not in exclude)\n",
    "    stop_free2=' '.join(word for word in punc_free.split()if (word not in stop) and (len(i)>4))\n",
    "    normalized = \" \".join(lemma.lemmatize(word) for word in punc_free.split())\n",
    "    res=' '.join(word for word in normalized.split()if (word not in stop) and (len(i)>4))\n",
    "    return res\n"
   ]
  },
  {
   "cell_type": "code",
   "execution_count": 268,
   "metadata": {},
   "outputs": [],
   "source": [
    "for i in ['c0_neg','c1_neg','c2_neg','c3_neg','c4_neg','c5_neg','c6_neg','c0_pos','c1_pos','c2_pos']:\n",
    "    exec('clean_{} = [clean(doc).split() for doc in {}]'.format(i,i))"
   ]
  },
  {
   "cell_type": "code",
   "execution_count": null,
   "metadata": {},
   "outputs": [],
   "source": []
  },
  {
   "cell_type": "markdown",
   "metadata": {},
   "source": [
    "<h3> LDA"
   ]
  },
  {
   "cell_type": "code",
   "execution_count": 273,
   "metadata": {},
   "outputs": [
    {
     "name": "stdout",
     "output_type": "stream",
     "text": [
      "Wall time: 18min 54s\n",
      "['american', 'world', 'people', 'political', 'documentary', 'propaganda', 'dream', 'stone', 'german', 'soldier', 'london', 'salman', 'audience', 'british', 'black', 'family', 'seberg', 'japanese', 'history', 'niven']\n",
      "\n",
      "['character', 'story', 'woman', 'performance', 'novel', 'actor', 'version', 'seems', 'scene', 'played', 'young', 'director', 'play', 'great', 'rather', 'year', 'taylor', 'musical', 'richard', 'look']\n",
      "\n",
      "['character', 'scene', 'story', 'people', 'first', 'think', 'acting', 'watch', 'actor', 'better', 'little', 'never', 'nothing', 'something', 'film', 'watching', 'minute', 'actually', 'going', 'great']\n",
      "\n",
      "Wall time: 25.7 s\n",
      "['people', 'scene', 'flick', 'film', 'horror', 'make', 'story', 'acting', 'infected', 'group', 'woman', 'character', 'military', 'death', 'revolt', 'first', 'fulci', 'watching', 'worst', 'ireland']\n",
      "\n",
      "['people', 'still', 'acting', 'vampire', 'effect', 'think', 'story', 'louque', 'nothing', 'never', 'scene', 'woman', 'living', 'better', 'whole', 'sound', 'watch', 'film', 'horror', 'government']\n",
      "\n",
      "['scene', 'actually', 'budget', 'film', 'watch', 'acting', 'story', 'little', 'woman', 'think', 'original', 'character', 'first', 'better', 'flick', 'people', 'anything', 'worst', 'white', 'nothing']\n",
      "\n",
      "Wall time: 5min 42s\n",
      "['character', 'scene', 'horror', 'killer', 'first', 'slasher', 'film', 'people', 'comedy', 'story', 'funny', 'better', 'still', 'around', 'think', 'though', 'seems', 'going', 'little', 'acting']\n",
      "\n",
      "['acting', 'worst', 'people', 'watch', 'funny', 'character', 'think', 'watching', 'actor', 'scene', 'waste', 'first', 'better', 'horror', 'never', 'actually', 'money', 'story', 'nothing', 'something']\n",
      "\n",
      "['character', 'scene', 'freddy', 'horror', 'killer', 'story', 'scarecrow', 'stupid', 'night', 'nothing', 'friend', 'film', 'people', 'worst', 'never', 'around', 'every', 'slasher', 'still', 'first']\n",
      "\n",
      "Wall time: 20.8 s\n",
      "['character', 'book', 'story', 'woman', 'first', 'point', 'never', 'zenia', 'morvern', 'people', 'think', 'reading', 'maybe', 'little', 'novel', 'series', 'better', 'every', 'supposed', 'winston']\n",
      "\n",
      "['character', 'book', 'story', 'series', 'watch', 'never', 'great', 'scene', 'people', 'original', 'first', 'house', 'around', 'script', 'still', 'nothing', 'example', 'rather', 'leonard', 'mitchell']\n",
      "\n",
      "['character', 'story', 'think', 'people', 'never', 'better', 'book', 'actor', 'acting', 'might', 'nothing', 'another', 'reason', 'version', 'someone', 'still', 'however', 'great', 'seeing', 'watch']\n",
      "\n",
      "Wall time: 12.1 s\n",
      "['character', 'first', 'witchcraft', 'think', 'scene', 'blood', 'though', 'look', 'actor', 'great', 'better', 'pretty', 'another', 'story', 'master', 'might', 'fight', 'terribly', 'problem', 'played']\n",
      "\n",
      "['blood', 'horror', 'scene', 'character', 'story', 'dracula', 'another', 'student', 'something', 'point', 'acting', 'look', 'friend', 'funny', 'savage', 'minute', 'pretty', 'whole', 'looking', 'hunter']\n",
      "\n",
      "['watch', 'scene', 'character', 'first', 'worst', 'effect', 'least', 'hunter', 'horror', 'think', 'atwill', 'alien', 'bloodsucker', 'pretty', 'lionel', 'dwight', 'film', 'space', 'human', 'sci-fi']\n",
      "\n",
      "Wall time: 1min 22s\n",
      "['episode', 'show', 'series', 'character', 'power', 'watch', 'first', 'season', 'something', 'people', 'every', 'think', 'ranger', 'better', 'story', 'never', 'watching', 'another', 'television', 'actor']\n",
      "\n",
      "['episode', 'series', 'character', 'story', 'people', 'first', 'watch', 'season', 'think', 'funny', 'springer', 'jerry', 'show', 'something', 'better', 'great', 'little', 'batman', 'minute', 'original']\n",
      "\n",
      "['batman', 'episode', 'character', 'people', 'first', 'season', 'scooby', 'think', 'series', 'show', 'watching', 'funny', 'better', 'going', 'watch', 'shaggy', 'point', 'nothing', 'great', 'still']\n",
      "\n",
      "Wall time: 10.8 s\n",
      "['first', 'pretty', 'effect', 'something', 'horror', 'karen', 'stefan', 'stirba', 'although', 'character', 'scene', 'special', 'woman', 'script', 'going', 'great', 'probably', 'danning', 'sense', 'awful']\n",
      "\n",
      "['woman', 'scene', 'first', 'story', 'character', 'minute', 'acting', 'daniela', 'better', 'watch', 'people', 'world', 'borel', 'nudity', 'ancestor', 'talking', 'think', 'rather', 'title', 'becomes']\n",
      "\n",
      "['scene', 'first', 'danning', 'character', 'effect', 'pretty', 'sybil', 'christopher', 'stirba', 'acting', 'darkwolf', 'howling', 'original', 'story', 'little', 'flick', 'sequel', 'horror', 'video', 'special']\n",
      "\n",
      "Wall time: 2min 57s\n",
      "['episode', 'series', 'season', 'character', 'first', 'great', 'story', 'show', 'think', 'watch', 'still', 'watching', 'always', 'people', 'columbo', 'year', 'never', 'actor', 'though', 'scene']\n",
      "\n",
      "['episode', 'series', 'first', 'character', 'watch', 'great', 'gundam', 'freddy', 'story', 'year', 'think', 'still', 'season', 'show', 'every', 'sabrina', 'never', 'original', 'friend', 'later']\n",
      "\n",
      "['spock', 'planet', 'kolchak', 'enterprise', 'earth', 'episode', 'family', 'mccoy', 'captain', 'character', 'vulcan', 'series', 'year', 'time', 'three', 'abigail', 'first', 'edmund', 'james', 'death']\n",
      "\n",
      "Wall time: 27min 14s\n",
      "['story', 'character', 'people', 'world', 'young', 'woman', 'scene', 'first', 'performance', 'family', 'film', 'father', 'great', 'director', 'year', 'never', 'human', 'still', 'actor', 'think']\n",
      "\n",
      "['great', 'character', 'story', 'scene', 'think', 'watch', 'first', 'people', 'little', 'film', 'still', 'never', 'actor', 'acting', 'funny', 'better', 'watching', 'comedy', 'performance', 'though']\n",
      "\n",
      "['great', 'film', 'scene', 'musical', 'story', 'performance', 'director', 'play', 'character', 'stewart', 'comedy', 'number', 'little', 'first', 'murder', 'actor', 'woman', 'young', 'played', 'dance']\n",
      "\n",
      "Wall time: 12.1 s\n",
      "['game', 'first', 'spiderman', 'graphic', 'comic', 'show', 'played', 'level', 'time', 'payne', 'contestant', 'superhero', 'spider-man', 'horror', 'though', 'something', 'person', 'hour', 'better', 'expect']\n",
      "\n",
      "['level', 'game', 'graphic', 'james', 'mario', 'great', 'world', 'think', 'weapon', 'first', 'enemy', 'voice', 'bowser', 'gameplay', 'character', 'every', 'quite', 'secret', 'around', 'system']\n",
      "\n",
      "['game', 'mission', 'great', 'story', 'character', 'still', 'played', 'scene', 'final', 'chess', 'every', 'time', 'control', 'super', 'first', 'mario', 'graphic', 'series', 'playing', 'around']\n",
      "\n"
     ]
    }
   ],
   "source": [
    "import numpy as np\n",
    "from gensim import corpora, models, similarities \n",
    "#create a Gensim dictionary from the texts\n",
    "for tokens in [clean_c0_neg,clean_c1_neg,clean_c2_neg,clean_c3_neg,clean_c4_neg,clean_c5_neg,clean_c6_neg,clean_c0_pos,clean_c1_pos,clean_c2_pos]:\n",
    "    dictionary = corpora.Dictionary(tokens)\n",
    "\n",
    "    #remove extremes (similar to the min/max df step used when creating the tf-idf matrix)\n",
    "    dictionary.filter_extremes(no_below=1, no_above=0.8)\n",
    "\n",
    "    #convert the dictionary to a bag of words corpus for reference\n",
    "    corpus = [dictionary.doc2bow(text) for text in tokens]\n",
    "    %time lda = models.LdaModel(corpus, num_topics=3,id2word=dictionary,\\\n",
    "                                update_every=5,\\\n",
    "                                chunksize=600,\\\n",
    "                                passes=100)\n",
    "    topics_matrix = lda.show_topics(formatted=False, num_words=20)\n",
    "    topics_matrix=[i[1] for i in topics_matrix]\n",
    "    topics_matrix = np.array(topics_matrix)\n",
    "\n",
    "    topic_words = topics_matrix[:,:,0]\n",
    "    for i in topic_words:\n",
    "        print([str(word) for word in i])\n",
    "        print()"
   ]
  },
  {
   "cell_type": "code",
   "execution_count": null,
   "metadata": {},
   "outputs": [],
   "source": []
  }
 ],
 "metadata": {
  "kernelspec": {
   "display_name": "Python 3",
   "language": "python",
   "name": "python3"
  },
  "language_info": {
   "codemirror_mode": {
    "name": "ipython",
    "version": 3
   },
   "file_extension": ".py",
   "mimetype": "text/x-python",
   "name": "python",
   "nbconvert_exporter": "python",
   "pygments_lexer": "ipython3",
   "version": "3.6.5"
  }
 },
 "nbformat": 4,
 "nbformat_minor": 2
}
